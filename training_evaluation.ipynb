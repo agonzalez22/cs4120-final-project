{
 "cells": [
  {
   "cell_type": "markdown",
   "id": "1a8703d7",
   "metadata": {},
   "source": [
    "# Model Training Evaluation"
   ]
  },
  {
   "cell_type": "markdown",
   "id": "f745a3d8",
   "metadata": {},
   "source": [
    "### By Alina Gonzalez and Jesse Elliott"
   ]
  },
  {
   "cell_type": "code",
   "execution_count": 8,
   "id": "1b067f15",
   "metadata": {},
   "outputs": [],
   "source": [
    "import pandas as pd\n",
    "import numpy as np\n",
    "\n",
    "import tensorflow as tf\n",
    "from tensorflow.keras.models import Sequential\n",
    "from tensorflow.keras.layers import Embedding, LSTM, Dense, Flatten, Conv1D, MaxPooling1D\n",
    "from tensorflow.keras.preprocessing.text import Tokenizer \n",
    "from tensorflow.keras.preprocessing.sequence import pad_sequences\n",
    "import matplotlib.pyplot as plt"
   ]
  },
  {
   "cell_type": "markdown",
   "id": "35ae942f",
   "metadata": {},
   "source": [
    "### Preprocessing"
   ]
  },
  {
   "cell_type": "code",
   "execution_count": 24,
   "id": "73cf6642",
   "metadata": {},
   "outputs": [],
   "source": [
    "train = pd.read_csv('data/balanced_data.csv')\n",
    "test = pd.read_csv('data/test.csv')\n",
    "valid = pd.read_csv('data/validation.csv')\n",
    "\n",
    "EMOTION_KEY = {0: 'anger', 1: 'fear', 2: 'joy', 3:'love', 4:'sadness', 5: 'surprise'}\n",
    "train['label_text'] = train['label'].map(EMOTION_KEY)\n",
    "test['label_text'] = test['label'].map(EMOTION_KEY)\n",
    "valid['label_text'] = valid['label'].map(EMOTION_KEY)"
   ]
  },
  {
   "cell_type": "code",
   "execution_count": 25,
   "id": "949b2871",
   "metadata": {},
   "outputs": [],
   "source": [
    "# tokenize text into sequences\n",
    "tokenizer = Tokenizer(num_words=10000, oov_token='<OOV>')\n",
    "tokenizer.fit_on_texts(train['text'])\n",
    "train_sequences = tokenizer.texts_to_sequences(train['text'])\n",
    "test_sequences = tokenizer.texts_to_sequences(test['text'])\n",
    "valid_sequences = tokenizer.texts_to_sequences(valid['text'])"
   ]
  },
  {
   "cell_type": "code",
   "execution_count": 26,
   "id": "1138de07",
   "metadata": {},
   "outputs": [],
   "source": [
    "# pad the text sequences\n",
    "max_length = max([len(seq) for seq in train_sequences])\n",
    "train_padded = pad_sequences(train_sequences, maxlen=max_length, padding='post')\n",
    "test_padded = pad_sequences(test_sequences, maxlen=max_length, padding='post')\n",
    "valid_padded = pad_sequences(valid_sequences, maxlen=max_length, padding='post')"
   ]
  },
  {
   "cell_type": "markdown",
   "id": "0c056337",
   "metadata": {},
   "source": [
    "### Models"
   ]
  },
  {
   "cell_type": "code",
   "execution_count": 27,
   "id": "7c3a5bcd",
   "metadata": {},
   "outputs": [],
   "source": [
    "# a simple feed-forward neural network using sequential dense layers\n",
    "def simple_ffn(input_shape, output_shape):\n",
    "    model = Sequential([\n",
    "        Dense(64, activation='relu', input_shape=input_shape),\n",
    "        Dense(output_shape, activation='softmax')\n",
    "    ])\n",
    "    return model\n",
    "\n",
    "# a recurrent neural network model\n",
    "def rnn_model(input_shape, output_shape):\n",
    "    model = Sequential([\n",
    "        Embedding(input_dim=10000, output_dim=64, input_length=input_shape),\n",
    "        LSTM(64),\n",
    "        Dense(output_shape, activation='softmax')\n",
    "    ])\n",
    "    return model\n",
    "\n",
    "# a convolutional neural network model\n",
    "def cnn_model(input_shape, output_shape):\n",
    "    model = Sequential([\n",
    "        Embedding(input_dim=10000, output_dim=64, input_length=input_shape),\n",
    "        Conv1D(64, 3, activation='relu'),\n",
    "        MaxPooling1D(2),\n",
    "        Flatten(),\n",
    "        Dense(output_shape, activation='softmax')\n",
    "    ])\n",
    "    return model"
   ]
  },
  {
   "cell_type": "markdown",
   "id": "d78db700",
   "metadata": {},
   "source": [
    "### Training"
   ]
  },
  {
   "cell_type": "code",
   "execution_count": 28,
   "id": "924eaf67",
   "metadata": {},
   "outputs": [],
   "source": [
    "# func to train the model and output evaluation of training based on the history\n",
    "def train_and_evaluate(model, train_data, train_labels, valid_data, valid_labels, test_data, test_labels):\n",
    "    model.compile(optimizer='adam', loss='sparse_categorical_crossentropy', metrics=['accuracy'])\n",
    "    history = model.fit(train_data, train_labels, epochs=10, validation_data=(valid_data, valid_labels), verbose=2)\n",
    "    loss, accuracy = model.evaluate(test_data, test_labels, verbose=2)\n",
    "    return history, loss, accuracy"
   ]
  },
  {
   "cell_type": "code",
   "execution_count": 29,
   "id": "c38c0a8e",
   "metadata": {},
   "outputs": [],
   "source": [
    "X_train, y_train = train_padded, train['label'].values\n",
    "X_test, y_test = test_padded, test['label'].values\n",
    "X_valid, y_valid = valid_padded, valid['label'].values"
   ]
  },
  {
   "cell_type": "code",
   "execution_count": 30,
   "id": "8763b56f",
   "metadata": {},
   "outputs": [
    {
     "name": "stdout",
     "output_type": "stream",
     "text": [
      "Epoch 1/10\n",
      "1006/1006 - 1s - loss: 152.9050 - accuracy: 0.1867 - val_loss: 56.8996 - val_accuracy: 0.2105 - 638ms/epoch - 634us/step\n",
      "Epoch 2/10\n",
      "1006/1006 - 0s - loss: 37.8993 - accuracy: 0.2137 - val_loss: 29.8906 - val_accuracy: 0.1350 - 407ms/epoch - 405us/step\n",
      "Epoch 3/10\n",
      "1006/1006 - 0s - loss: 16.6072 - accuracy: 0.2314 - val_loss: 12.8043 - val_accuracy: 0.1785 - 403ms/epoch - 401us/step\n",
      "Epoch 4/10\n",
      "1006/1006 - 0s - loss: 8.5258 - accuracy: 0.2316 - val_loss: 7.0537 - val_accuracy: 0.1760 - 403ms/epoch - 400us/step\n",
      "Epoch 5/10\n",
      "1006/1006 - 0s - loss: 5.3003 - accuracy: 0.2296 - val_loss: 5.0575 - val_accuracy: 0.1450 - 400ms/epoch - 398us/step\n",
      "Epoch 6/10\n",
      "1006/1006 - 0s - loss: 3.8830 - accuracy: 0.2249 - val_loss: 3.5560 - val_accuracy: 0.1375 - 404ms/epoch - 401us/step\n",
      "Epoch 7/10\n",
      "1006/1006 - 0s - loss: 2.8531 - accuracy: 0.2184 - val_loss: 3.0894 - val_accuracy: 0.1035 - 405ms/epoch - 403us/step\n",
      "Epoch 8/10\n",
      "1006/1006 - 0s - loss: 2.2853 - accuracy: 0.2214 - val_loss: 2.3563 - val_accuracy: 0.1345 - 401ms/epoch - 399us/step\n",
      "Epoch 9/10\n",
      "1006/1006 - 0s - loss: 1.9700 - accuracy: 0.2227 - val_loss: 2.3783 - val_accuracy: 0.1040 - 403ms/epoch - 400us/step\n",
      "Epoch 10/10\n",
      "1006/1006 - 0s - loss: 1.8288 - accuracy: 0.2291 - val_loss: 2.1900 - val_accuracy: 0.1225 - 402ms/epoch - 400us/step\n",
      "63/63 - 0s - loss: 2.2397 - accuracy: 0.1060 - 28ms/epoch - 452us/step\n"
     ]
    }
   ],
   "source": [
    "input_shape = X_train.shape[1:]\n",
    "output_shape = len(train['label'].unique())\n",
    "ffn_model = simple_ffn(input_shape, output_shape)\n",
    "ffn_history, ffn_loss, ffn_accuracy = train_and_evaluate(ffn_model, X_train, y_train, X_valid, y_valid, X_test, y_test)"
   ]
  },
  {
   "cell_type": "code",
   "execution_count": 31,
   "id": "106b615b",
   "metadata": {},
   "outputs": [
    {
     "name": "stdout",
     "output_type": "stream",
     "text": [
      "Epoch 1/10\n",
      "1006/1006 - 17s - loss: 1.7936 - accuracy: 0.1659 - val_loss: 1.7833 - val_accuracy: 0.1070 - 17s/epoch - 16ms/step\n",
      "Epoch 2/10\n",
      "1006/1006 - 16s - loss: 1.7880 - accuracy: 0.1762 - val_loss: 1.7935 - val_accuracy: 0.0400 - 16s/epoch - 16ms/step\n",
      "Epoch 3/10\n",
      "1006/1006 - 16s - loss: 1.7771 - accuracy: 0.1827 - val_loss: 1.7815 - val_accuracy: 0.1420 - 16s/epoch - 15ms/step\n",
      "Epoch 4/10\n",
      "1006/1006 - 16s - loss: 1.7885 - accuracy: 0.1735 - val_loss: 1.7845 - val_accuracy: 0.2750 - 16s/epoch - 15ms/step\n",
      "Epoch 5/10\n",
      "1006/1006 - 16s - loss: 1.5727 - accuracy: 0.3252 - val_loss: 1.5790 - val_accuracy: 0.3145 - 16s/epoch - 16ms/step\n",
      "Epoch 6/10\n",
      "1006/1006 - 16s - loss: 1.1143 - accuracy: 0.5577 - val_loss: 1.5854 - val_accuracy: 0.3870 - 16s/epoch - 16ms/step\n",
      "Epoch 7/10\n",
      "1006/1006 - 16s - loss: 0.8361 - accuracy: 0.6970 - val_loss: 1.5698 - val_accuracy: 0.4290 - 16s/epoch - 16ms/step\n",
      "Epoch 8/10\n",
      "1006/1006 - 16s - loss: 0.6136 - accuracy: 0.8002 - val_loss: 1.7895 - val_accuracy: 0.4425 - 16s/epoch - 16ms/step\n",
      "Epoch 9/10\n",
      "1006/1006 - 16s - loss: 0.4936 - accuracy: 0.8476 - val_loss: 1.8870 - val_accuracy: 0.4600 - 16s/epoch - 15ms/step\n",
      "Epoch 10/10\n",
      "1006/1006 - 16s - loss: 0.3890 - accuracy: 0.8884 - val_loss: 2.1242 - val_accuracy: 0.4095 - 16s/epoch - 15ms/step\n",
      "63/63 - 0s - loss: 2.0991 - accuracy: 0.4215 - 351ms/epoch - 6ms/step\n"
     ]
    }
   ],
   "source": [
    "rnn_input_shape = X_train.shape[1]\n",
    "rnn_model = rnn_model(rnn_input_shape, output_shape)\n",
    "rnn_history, rnn_loss, rnn_accuracy = train_and_evaluate(rnn_model, X_train, y_train, X_valid, y_valid, X_test, y_test)"
   ]
  },
  {
   "cell_type": "code",
   "execution_count": 32,
   "id": "1e556b29",
   "metadata": {},
   "outputs": [
    {
     "name": "stdout",
     "output_type": "stream",
     "text": [
      "Epoch 1/10\n",
      "1006/1006 - 3s - loss: 0.6825 - accuracy: 0.7484 - val_loss: 0.3435 - val_accuracy: 0.8870 - 3s/epoch - 3ms/step\n",
      "Epoch 2/10\n",
      "1006/1006 - 3s - loss: 0.0657 - accuracy: 0.9811 - val_loss: 0.3861 - val_accuracy: 0.8800 - 3s/epoch - 3ms/step\n",
      "Epoch 3/10\n",
      "1006/1006 - 3s - loss: 0.0288 - accuracy: 0.9922 - val_loss: 0.4247 - val_accuracy: 0.8790 - 3s/epoch - 3ms/step\n",
      "Epoch 4/10\n",
      "1006/1006 - 3s - loss: 0.0167 - accuracy: 0.9959 - val_loss: 0.4839 - val_accuracy: 0.8775 - 3s/epoch - 3ms/step\n",
      "Epoch 5/10\n",
      "1006/1006 - 3s - loss: 0.0134 - accuracy: 0.9966 - val_loss: 0.5400 - val_accuracy: 0.8770 - 3s/epoch - 3ms/step\n",
      "Epoch 6/10\n",
      "1006/1006 - 3s - loss: 0.0137 - accuracy: 0.9963 - val_loss: 0.6177 - val_accuracy: 0.8670 - 3s/epoch - 3ms/step\n",
      "Epoch 7/10\n",
      "1006/1006 - 3s - loss: 0.0114 - accuracy: 0.9971 - val_loss: 0.6447 - val_accuracy: 0.8705 - 3s/epoch - 3ms/step\n",
      "Epoch 8/10\n",
      "1006/1006 - 3s - loss: 0.0099 - accuracy: 0.9974 - val_loss: 0.7275 - val_accuracy: 0.8630 - 3s/epoch - 3ms/step\n",
      "Epoch 9/10\n",
      "1006/1006 - 3s - loss: 0.0096 - accuracy: 0.9970 - val_loss: 0.7337 - val_accuracy: 0.8650 - 3s/epoch - 3ms/step\n",
      "Epoch 10/10\n",
      "1006/1006 - 3s - loss: 0.0086 - accuracy: 0.9975 - val_loss: 0.7704 - val_accuracy: 0.8625 - 3s/epoch - 3ms/step\n",
      "63/63 - 0s - loss: 0.7935 - accuracy: 0.8600 - 66ms/epoch - 1ms/step\n"
     ]
    }
   ],
   "source": [
    "cnn_model = cnn_model(rnn_input_shape, output_shape)\n",
    "cnn_history, cnn_loss, cnn_accuracy = train_and_evaluate(cnn_model, X_train, y_train, X_valid, y_valid, X_test, y_test)"
   ]
  },
  {
   "cell_type": "code",
   "execution_count": 33,
   "id": "5d18f951",
   "metadata": {},
   "outputs": [
    {
     "name": "stdout",
     "output_type": "stream",
     "text": [
      "Simple Feedforward Neural Network - Test Loss: 2.2396912574768066 Test Accuracy: 0.10599999874830246\n",
      "RNN Model - Test Loss: 2.0991475582122803 Test Accuracy: 0.42149999737739563\n",
      "CNN Model - Test Loss: 0.7934795618057251 Test Accuracy: 0.8600000143051147\n"
     ]
    }
   ],
   "source": [
    "print(\"Simple Feedforward Neural Network - Test Loss:\", ffn_loss, \"Test Accuracy:\", ffn_accuracy)\n",
    "print(\"RNN Model - Test Loss:\", rnn_loss, \"Test Accuracy:\", rnn_accuracy)\n",
    "print(\"CNN Model - Test Loss:\", cnn_loss, \"Test Accuracy:\", cnn_accuracy)\n"
   ]
  },
  {
   "cell_type": "markdown",
   "id": "06b15ac3",
   "metadata": {},
   "source": [
    "### Visualization"
   ]
  },
  {
   "cell_type": "code",
   "execution_count": 34,
   "id": "f50e0391",
   "metadata": {},
   "outputs": [],
   "source": [
    "def plot_history(history, model_name):\n",
    "    plt.plot(history.history['accuracy'], label='accuracy')\n",
    "    plt.plot(history.history['val_accuracy'], label = 'val_accuracy')\n",
    "    plt.xlabel('Epoch')\n",
    "    plt.ylabel('Accuracy')\n",
    "    plt.ylim([0, 1])\n",
    "    plt.title(model_name)\n",
    "    plt.legend(loc='lower right')"
   ]
  },
  {
   "cell_type": "code",
   "execution_count": 35,
   "id": "00afa398",
   "metadata": {},
   "outputs": [
    {
     "data": {
      "image/png": "[encoded data removed]",
      "text/plain": [
       "<Figure size 432x288 with 1 Axes>"
      ]
     },
     "metadata": {
      "needs_background": "light"
     },
     "output_type": "display_data"
    }
   ],
   "source": [
    "plot_history(ffn_history, 'Simple Feed-Forward')"
   ]
  },
  {
   "cell_type": "code",
   "execution_count": 36,
   "id": "3e905037",
   "metadata": {},
   "outputs": [
    {
     "data": {
      "image/png": "[encoded data removed]",
      "text/plain": [
       "<Figure size 432x288 with 1 Axes>"
      ]
     },
     "metadata": {
      "needs_background": "light"
     },
     "output_type": "display_data"
    }
   ],
   "source": [
    "plot_history(rnn_history, 'Recurrent')"
   ]
  },
  {
   "cell_type": "code",
   "execution_count": 37,
   "id": "d994ada8",
   "metadata": {
    "scrolled": true
   },
   "outputs": [
    {
     "data": {
      "image/png": "[encoded data removed]",
      "text/plain": [
       "<Figure size 432x288 with 1 Axes>"
      ]
     },
     "metadata": {
      "needs_background": "light"
     },
     "output_type": "display_data"
    }
   ],
   "source": [
    "plot_history(cnn_history, 'Convolutional')"
   ]
  },
  {
   "cell_type": "code",
   "execution_count": 39,
   "id": "8aa76e8a",
   "metadata": {},
   "outputs": [],
   "source": [
    "ffn_model.save('saved_models/ffn_model.h5')\n",
    "rnn_model.save('saved_models/rnn_model.h5')\n",
    "cnn_model.save('saved_models/cnn_model.h5')\n",
    "\n",
    "# save the tokenizer\n",
    "import pickle\n",
    "with open('saved_models/tokenizer.pickle', 'wb') as handle:\n",
    "    pickle.dump(tokenizer, handle, protocol=pickle.HIGHEST_PROTOCOL)"
   ]
  }
 ],
 "metadata": {
  "kernelspec": {
   "display_name": "Python 3",
   "language": "python",
   "name": "python3"
  },
  "language_info": {
   "codemirror_mode": {
    "name": "ipython",
    "version": 3
   },
   "file_extension": ".py",
   "mimetype": "text/x-python",
   "name": "python",
   "nbconvert_exporter": "python",
   "pygments_lexer": "ipython3",
   "version": "3.8.8"
  }
 },
 "nbformat": 4,
 "nbformat_minor": 5
}
