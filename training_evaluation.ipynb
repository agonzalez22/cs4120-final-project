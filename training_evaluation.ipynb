{
 "cells": [
  {
   "cell_type": "markdown",
   "id": "1a8703d7",
   "metadata": {},
   "source": [
    "# Model Training Evaluation"
   ]
  },
  {
   "cell_type": "markdown",
   "id": "f745a3d8",
   "metadata": {},
   "source": [
    "### By Alina Gonzalez and Jesse Elliott"
   ]
  },
  {
   "cell_type": "code",
   "execution_count": 8,
   "id": "1b067f15",
   "metadata": {},
   "outputs": [],
   "source": [
    "import pandas as pd\n",
    "import numpy as np\n",
    "\n",
    "import tensorflow as tf\n",
    "from tensorflow.keras.models import Sequential\n",
    "from tensorflow.keras.layers import Embedding, LSTM, Dense, Flatten, Conv1D, MaxPooling1D\n",
    "from tensorflow.keras.preprocessing.text import Tokenizer \n",
    "from tensorflow.keras.preprocessing.sequence import pad_sequences\n",
    "import matplotlib.pyplot as plt"
   ]
  },
  {
   "cell_type": "markdown",
   "id": "35ae942f",
   "metadata": {},
   "source": [
    "### Preprocessing"
   ]
  },
  {
   "cell_type": "code",
   "execution_count": 9,
   "id": "73cf6642",
   "metadata": {},
   "outputs": [],
   "source": [
    "train = pd.read_csv('data/training.csv')\n",
    "test = pd.read_csv('data/test.csv')\n",
    "valid = pd.read_csv('data/validation.csv')\n",
    "\n",
    "EMOTION_KEY = {0: 'anger', 1: 'fear', 2: 'joy', 3:'love', 4:'sadness', 5: 'surprise'}\n",
    "train['label_text'] = train['label'].map(EMOTION_KEY)\n",
    "test['label_text'] = test['label'].map(EMOTION_KEY)\n",
    "valid['label_text'] = valid['label'].map(EMOTION_KEY)"
   ]
  },
  {
   "cell_type": "code",
   "execution_count": 10,
   "id": "949b2871",
   "metadata": {},
   "outputs": [],
   "source": [
    "# tokenize text into sequences\n",
    "tokenizer = Tokenizer(num_words=10000, oov_token='<OOV>')\n",
    "tokenizer.fit_on_texts(train['text'])\n",
    "train_sequences = tokenizer.texts_to_sequences(train['text'])\n",
    "test_sequences = tokenizer.texts_to_sequences(test['text'])\n",
    "valid_sequences = tokenizer.texts_to_sequences(valid['text'])"
   ]
  },
  {
   "cell_type": "code",
   "execution_count": 11,
   "id": "1138de07",
   "metadata": {},
   "outputs": [],
   "source": [
    "# pad the text sequences\n",
    "max_length = max([len(seq) for seq in train_sequences])\n",
    "train_padded = pad_sequences(train_sequences, maxlen=max_length, padding='post')\n",
    "test_padded = pad_sequences(test_sequences, maxlen=max_length, padding='post')\n",
    "valid_padded = pad_sequences(valid_sequences, maxlen=max_length, padding='post')"
   ]
  },
  {
   "cell_type": "markdown",
   "id": "0c056337",
   "metadata": {},
   "source": [
    "### Models"
   ]
  },
  {
   "cell_type": "code",
   "execution_count": 12,
   "id": "7c3a5bcd",
   "metadata": {},
   "outputs": [],
   "source": [
    "# a simple feed-forward neural network using sequential dense layers\n",
    "def simple_ffn(input_shape, output_shape):\n",
    "    model = Sequential([\n",
    "        Dense(64, activation='relu', input_shape=input_shape),\n",
    "        Dense(output_shape, activation='softmax')\n",
    "    ])\n",
    "    return model\n",
    "\n",
    "# a recurrent neural network model\n",
    "def rnn_model(input_shape, output_shape):\n",
    "    model = Sequential([\n",
    "        Embedding(input_dim=10000, output_dim=64, input_length=input_shape),\n",
    "        LSTM(64),\n",
    "        Dense(output_shape, activation='softmax')\n",
    "    ])\n",
    "    return model\n",
    "\n",
    "# a convolutional neural network model\n",
    "def cnn_model(input_shape, output_shape):\n",
    "    model = Sequential([\n",
    "        Embedding(input_dim=10000, output_dim=64, input_length=input_shape),\n",
    "        Conv1D(64, 3, activation='relu'),\n",
    "        MaxPooling1D(2),\n",
    "        Flatten(),\n",
    "        Dense(output_shape, activation='softmax')\n",
    "    ])\n",
    "    return model"
   ]
  },
  {
   "cell_type": "markdown",
   "id": "d78db700",
   "metadata": {},
   "source": [
    "### Training"
   ]
  },
  {
   "cell_type": "code",
   "execution_count": 13,
   "id": "924eaf67",
   "metadata": {},
   "outputs": [],
   "source": [
    "# func to train the model and output evaluation of training based on the history\n",
    "def train_and_evaluate(model, train_data, train_labels, valid_data, valid_labels, test_data, test_labels):\n",
    "    model.compile(optimizer='adam', loss='sparse_categorical_crossentropy', metrics=['accuracy'])\n",
    "    history = model.fit(train_data, train_labels, epochs=10, validation_data=(valid_data, valid_labels), verbose=2)\n",
    "    loss, accuracy = model.evaluate(test_data, test_labels, verbose=2)\n",
    "    return history, loss, accuracy"
   ]
  },
  {
   "cell_type": "code",
   "execution_count": 14,
   "id": "c38c0a8e",
   "metadata": {},
   "outputs": [],
   "source": [
    "X_train, y_train = train_padded, train['label'].values\n",
    "X_test, y_test = test_padded, test['label'].values\n",
    "X_valid, y_valid = valid_padded, valid['label'].values"
   ]
  },
  {
   "cell_type": "code",
   "execution_count": 15,
   "id": "8763b56f",
   "metadata": {},
   "outputs": [
    {
     "name": "stdout",
     "output_type": "stream",
     "text": [
      "Epoch 1/10\n",
      "500/500 - 0s - loss: 187.9872 - accuracy: 0.2431 - val_loss: 84.4506 - val_accuracy: 0.2375 - 448ms/epoch - 897us/step\n",
      "Epoch 2/10\n",
      "500/500 - 0s - loss: 78.9578 - accuracy: 0.2462 - val_loss: 52.0091 - val_accuracy: 0.2200 - 208ms/epoch - 415us/step\n",
      "Epoch 3/10\n",
      "500/500 - 0s - loss: 47.8593 - accuracy: 0.2571 - val_loss: 35.7559 - val_accuracy: 0.2350 - 205ms/epoch - 411us/step\n",
      "Epoch 4/10\n",
      "500/500 - 0s - loss: 32.4402 - accuracy: 0.2651 - val_loss: 24.9093 - val_accuracy: 0.2385 - 204ms/epoch - 407us/step\n",
      "Epoch 5/10\n",
      "500/500 - 0s - loss: 22.7441 - accuracy: 0.2641 - val_loss: 18.2993 - val_accuracy: 0.2115 - 202ms/epoch - 405us/step\n",
      "Epoch 6/10\n",
      "500/500 - 0s - loss: 16.3379 - accuracy: 0.2668 - val_loss: 14.5268 - val_accuracy: 0.2410 - 209ms/epoch - 419us/step\n",
      "Epoch 7/10\n",
      "500/500 - 0s - loss: 12.2322 - accuracy: 0.2748 - val_loss: 10.5760 - val_accuracy: 0.2415 - 204ms/epoch - 409us/step\n",
      "Epoch 8/10\n",
      "500/500 - 0s - loss: 9.1051 - accuracy: 0.2744 - val_loss: 8.3419 - val_accuracy: 0.2065 - 204ms/epoch - 409us/step\n",
      "Epoch 9/10\n",
      "500/500 - 0s - loss: 7.4891 - accuracy: 0.2627 - val_loss: 6.6571 - val_accuracy: 0.2605 - 204ms/epoch - 409us/step\n",
      "Epoch 10/10\n",
      "500/500 - 0s - loss: 5.8103 - accuracy: 0.2753 - val_loss: 5.2358 - val_accuracy: 0.3105 - 204ms/epoch - 408us/step\n",
      "63/63 - 0s - loss: 5.5086 - accuracy: 0.3020 - 30ms/epoch - 477us/step\n"
     ]
    }
   ],
   "source": [
    "input_shape = X_train.shape[1:]\n",
    "output_shape = len(train['label'].unique())\n",
    "ffn_model = simple_ffn(input_shape, output_shape)\n",
    "ffn_history, ffn_loss, ffn_accuracy = train_and_evaluate(ffn_model, X_train, y_train, X_valid, y_valid, X_test, y_test)"
   ]
  },
  {
   "cell_type": "code",
   "execution_count": 16,
   "id": "106b615b",
   "metadata": {},
   "outputs": [
    {
     "name": "stdout",
     "output_type": "stream",
     "text": [
      "Epoch 1/10\n",
      "500/500 - 8s - loss: 1.5835 - accuracy: 0.3311 - val_loss: 1.5793 - val_accuracy: 0.3520 - 8s/epoch - 16ms/step\n",
      "Epoch 2/10\n",
      "500/500 - 7s - loss: 1.5737 - accuracy: 0.3293 - val_loss: 1.5334 - val_accuracy: 0.3520 - 7s/epoch - 14ms/step\n",
      "Epoch 3/10\n",
      "500/500 - 7s - loss: 1.5424 - accuracy: 0.3271 - val_loss: 1.5811 - val_accuracy: 0.3520 - 7s/epoch - 14ms/step\n",
      "Epoch 4/10\n",
      "500/500 - 7s - loss: 1.5775 - accuracy: 0.3327 - val_loss: 1.5828 - val_accuracy: 0.3520 - 7s/epoch - 14ms/step\n",
      "Epoch 5/10\n",
      "500/500 - 7s - loss: 1.5766 - accuracy: 0.3353 - val_loss: 1.5802 - val_accuracy: 0.3520 - 7s/epoch - 14ms/step\n",
      "Epoch 6/10\n",
      "500/500 - 7s - loss: 1.5770 - accuracy: 0.3329 - val_loss: 1.5845 - val_accuracy: 0.2750 - 7s/epoch - 14ms/step\n",
      "Epoch 7/10\n",
      "500/500 - 7s - loss: 1.5767 - accuracy: 0.3346 - val_loss: 1.5806 - val_accuracy: 0.3520 - 7s/epoch - 14ms/step\n",
      "Epoch 8/10\n",
      "500/500 - 7s - loss: 1.5765 - accuracy: 0.3351 - val_loss: 1.5804 - val_accuracy: 0.3520 - 7s/epoch - 14ms/step\n",
      "Epoch 9/10\n",
      "500/500 - 7s - loss: 1.5764 - accuracy: 0.3351 - val_loss: 1.5803 - val_accuracy: 0.3520 - 7s/epoch - 14ms/step\n",
      "Epoch 10/10\n",
      "500/500 - 7s - loss: 1.5758 - accuracy: 0.3351 - val_loss: 1.5804 - val_accuracy: 0.3520 - 7s/epoch - 14ms/step\n",
      "63/63 - 0s - loss: 1.5586 - accuracy: 0.3475 - 350ms/epoch - 6ms/step\n"
     ]
    }
   ],
   "source": [
    "rnn_input_shape = X_train.shape[1]\n",
    "rnn_model = rnn_model(rnn_input_shape, output_shape)\n",
    "rnn_history, rnn_loss, rnn_accuracy = train_and_evaluate(rnn_model, X_train, y_train, X_valid, y_valid, X_test, y_test)"
   ]
  },
  {
   "cell_type": "code",
   "execution_count": 17,
   "id": "1e556b29",
   "metadata": {},
   "outputs": [
    {
     "name": "stdout",
     "output_type": "stream",
     "text": [
      "Epoch 1/10\n",
      "500/500 - 2s - loss: 1.2078 - accuracy: 0.5404 - val_loss: 0.6459 - val_accuracy: 0.7895 - 2s/epoch - 3ms/step\n",
      "Epoch 2/10\n",
      "500/500 - 1s - loss: 0.3625 - accuracy: 0.8853 - val_loss: 0.3129 - val_accuracy: 0.9030 - 1s/epoch - 3ms/step\n",
      "Epoch 3/10\n",
      "500/500 - 1s - loss: 0.1445 - accuracy: 0.9530 - val_loss: 0.2978 - val_accuracy: 0.8940 - 1s/epoch - 3ms/step\n",
      "Epoch 4/10\n",
      "500/500 - 1s - loss: 0.0776 - accuracy: 0.9759 - val_loss: 0.3322 - val_accuracy: 0.8940 - 1s/epoch - 3ms/step\n",
      "Epoch 5/10\n",
      "500/500 - 1s - loss: 0.0476 - accuracy: 0.9859 - val_loss: 0.3582 - val_accuracy: 0.8925 - 1s/epoch - 3ms/step\n",
      "Epoch 6/10\n",
      "500/500 - 1s - loss: 0.0329 - accuracy: 0.9898 - val_loss: 0.4062 - val_accuracy: 0.8920 - 1s/epoch - 3ms/step\n",
      "Epoch 7/10\n",
      "500/500 - 1s - loss: 0.0246 - accuracy: 0.9928 - val_loss: 0.4346 - val_accuracy: 0.8875 - 1s/epoch - 3ms/step\n",
      "Epoch 8/10\n",
      "500/500 - 1s - loss: 0.0198 - accuracy: 0.9944 - val_loss: 0.4453 - val_accuracy: 0.8915 - 1s/epoch - 3ms/step\n",
      "Epoch 9/10\n",
      "500/500 - 1s - loss: 0.0185 - accuracy: 0.9948 - val_loss: 0.4772 - val_accuracy: 0.8885 - 1s/epoch - 3ms/step\n",
      "Epoch 10/10\n",
      "500/500 - 1s - loss: 0.0164 - accuracy: 0.9952 - val_loss: 0.4906 - val_accuracy: 0.8905 - 1s/epoch - 3ms/step\n",
      "63/63 - 0s - loss: 0.5847 - accuracy: 0.8805 - 66ms/epoch - 1ms/step\n"
     ]
    }
   ],
   "source": [
    "cnn_model = cnn_model(rnn_input_shape, output_shape)\n",
    "cnn_history, cnn_loss, cnn_accuracy = train_and_evaluate(cnn_model, X_train, y_train, X_valid, y_valid, X_test, y_test)"
   ]
  },
  {
   "cell_type": "code",
   "execution_count": 18,
   "id": "5d18f951",
   "metadata": {},
   "outputs": [
    {
     "name": "stdout",
     "output_type": "stream",
     "text": [
      "Simple Feedforward Neural Network - Test Loss: 5.508576393127441 Test Accuracy: 0.3019999861717224\n",
      "RNN Model - Test Loss: 1.558600902557373 Test Accuracy: 0.3474999964237213\n",
      "CNN Model - Test Loss: 0.5846891403198242 Test Accuracy: 0.8805000185966492\n"
     ]
    }
   ],
   "source": [
    "print(\"Simple Feedforward Neural Network - Test Loss:\", ffn_loss, \"Test Accuracy:\", ffn_accuracy)\n",
    "print(\"RNN Model - Test Loss:\", rnn_loss, \"Test Accuracy:\", rnn_accuracy)\n",
    "print(\"CNN Model - Test Loss:\", cnn_loss, \"Test Accuracy:\", cnn_accuracy)\n"
   ]
  },
  {
   "cell_type": "markdown",
   "id": "06b15ac3",
   "metadata": {},
   "source": [
    "### Visualization"
   ]
  },
  {
   "cell_type": "code",
   "execution_count": 19,
   "id": "f50e0391",
   "metadata": {},
   "outputs": [],
   "source": [
    "def plot_history(history, model_name):\n",
    "    plt.plot(history.history['accuracy'], label='accuracy')\n",
    "    plt.plot(history.history['val_accuracy'], label = 'val_accuracy')\n",
    "    plt.xlabel('Epoch')\n",
    "    plt.ylabel('Accuracy')\n",
    "    plt.ylim([0, 1])\n",
    "    plt.title(model_name)\n",
    "    plt.legend(loc='lower right')"
   ]
  },
  {
   "cell_type": "code",
   "execution_count": 20,
   "id": "00afa398",
   "metadata": {},
   "outputs": [
    {
     "data": {
      "image/png": "[encoded data removed]",
      "text/plain": [
       "<Figure size 432x288 with 1 Axes>"
      ]
     },
     "metadata": {
      "needs_background": "light"
     },
     "output_type": "display_data"
    }
   ],
   "source": [
    "plot_history(ffn_history, 'Simple Feed-Forward')"
   ]
  },
  {
   "cell_type": "code",
   "execution_count": 21,
   "id": "3e905037",
   "metadata": {},
   "outputs": [
    {
     "data": {
      "image/png": "[encoded data removed]",
      "text/plain": [
       "<Figure size 432x288 with 1 Axes>"
      ]
     },
     "metadata": {
      "needs_background": "light"
     },
     "output_type": "display_data"
    }
   ],
   "source": [
    "plot_history(rnn_history, 'Recurrent')"
   ]
  },
  {
   "cell_type": "code",
   "execution_count": 22,
   "id": "d994ada8",
   "metadata": {
    "scrolled": true
   },
   "outputs": [
    {
     "data": {
      "image/png": "[encoded data removed]",
      "text/plain": [
       "<Figure size 432x288 with 1 Axes>"
      ]
     },
     "metadata": {
      "needs_background": "light"
     },
     "output_type": "display_data"
    }
   ],
   "source": [
    "plot_history(cnn_history, 'Convolutional')"
   ]
  },
  {
   "cell_type": "code",
   "execution_count": 23,
   "id": "8aa76e8a",
   "metadata": {},
   "outputs": [],
   "source": [
    "ffn_model.save('saved_models/ffn_model.h5')\n",
    "rnn_model.save('saved_models/rnn_model.h5')\n",
    "cnn_model.save('saved_models/cnn_model.h5')\n",
    "\n",
    "# save the tokenizer\n",
    "import pickle\n",
    "with open('saved_models/tokenizer.pickle', 'wb') as handle:\n",
    "    pickle.dump(tokenizer, handle, protocol=pickle.HIGHEST_PROTOCOL)"
   ]
  },
  {
   "cell_type": "code",
   "execution_count": null,
   "id": "6fa48cd5",
   "metadata": {},
   "outputs": [],
   "source": []
  },
  {
   "cell_type": "code",
   "execution_count": null,
   "id": "ad5b36ce",
   "metadata": {},
   "outputs": [],
   "source": []
  }
 ],
 "metadata": {
  "kernelspec": {
   "display_name": "Python 3",
   "language": "python",
   "name": "python3"
  },
  "language_info": {
   "codemirror_mode": {
    "name": "ipython",
    "version": 3
   },
   "file_extension": ".py",
   "mimetype": "text/x-python",
   "name": "python",
   "nbconvert_exporter": "python",
   "pygments_lexer": "ipython3",
   "version": "3.8.8"
  }
 },
 "nbformat": 4,
 "nbformat_minor": 5
}
