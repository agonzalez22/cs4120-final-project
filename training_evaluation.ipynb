{
 "cells": [
  {
   "cell_type": "markdown",
   "id": "1a8703d7",
   "metadata": {},
   "source": [
    "# Model Training Evaluation"
   ]
  },
  {
   "cell_type": "markdown",
   "id": "f745a3d8",
   "metadata": {},
   "source": [
    "### By Alina Gonzalez and Jesse Elliott"
   ]
  },
  {
   "cell_type": "code",
   "execution_count": 1,
   "id": "1b067f15",
   "metadata": {},
   "outputs": [
    {
     "ename": "ModuleNotFoundError",
     "evalue": "No module named 'tensorflow'",
     "output_type": "error",
     "traceback": [
      "\u001b[1;31m---------------------------------------------------------------------------\u001b[0m",
      "\u001b[1;31mModuleNotFoundError\u001b[0m                       Traceback (most recent call last)",
      "Cell \u001b[1;32mIn[1], line 4\u001b[0m\n\u001b[0;32m      1\u001b[0m \u001b[38;5;28;01mimport\u001b[39;00m \u001b[38;5;21;01mpandas\u001b[39;00m \u001b[38;5;28;01mas\u001b[39;00m \u001b[38;5;21;01mpd\u001b[39;00m\n\u001b[0;32m      2\u001b[0m \u001b[38;5;28;01mimport\u001b[39;00m \u001b[38;5;21;01mnumpy\u001b[39;00m \u001b[38;5;28;01mas\u001b[39;00m \u001b[38;5;21;01mnp\u001b[39;00m\n\u001b[1;32m----> 4\u001b[0m \u001b[38;5;28;01mimport\u001b[39;00m \u001b[38;5;21;01mtensorflow\u001b[39;00m \u001b[38;5;28;01mas\u001b[39;00m \u001b[38;5;21;01mtf\u001b[39;00m\n\u001b[0;32m      5\u001b[0m \u001b[38;5;28;01mfrom\u001b[39;00m \u001b[38;5;21;01mtensorflow\u001b[39;00m\u001b[38;5;21;01m.\u001b[39;00m\u001b[38;5;21;01mkeras\u001b[39;00m\u001b[38;5;21;01m.\u001b[39;00m\u001b[38;5;21;01mmodels\u001b[39;00m \u001b[38;5;28;01mimport\u001b[39;00m Sequential\n\u001b[0;32m      6\u001b[0m \u001b[38;5;28;01mfrom\u001b[39;00m \u001b[38;5;21;01mtensorflow\u001b[39;00m\u001b[38;5;21;01m.\u001b[39;00m\u001b[38;5;21;01mkeras\u001b[39;00m\u001b[38;5;21;01m.\u001b[39;00m\u001b[38;5;21;01mlayers\u001b[39;00m \u001b[38;5;28;01mimport\u001b[39;00m Embedding, LSTM, Dense, Flatten, Conv1D, MaxPooling1D\n",
      "\u001b[1;31mModuleNotFoundError\u001b[0m: No module named 'tensorflow'"
     ]
    }
   ],
   "source": [
    "import pandas as pd\n",
    "import numpy as np\n",
    "\n",
    "import tensorflow as tf\n",
    "from tensorflow.keras.models import Sequential\n",
    "from tensorflow.keras.layers import Embedding, LSTM, Dense, Flatten, Conv1D, MaxPooling1D\n",
    "\n",
    "import matplotlib.pyplot as plt"
   ]
  },
  {
   "cell_type": "markdown",
   "id": "35ae942f",
   "metadata": {},
   "source": [
    "### Preprocessing"
   ]
  },
  {
   "cell_type": "code",
   "execution_count": 3,
   "id": "73cf6642",
   "metadata": {},
   "outputs": [],
   "source": [
    "train = pd.read_csv('data/training.csv')\n",
    "test = pd.read_csv('data/test.csv')\n",
    "valid = pd.read_csv('data/validation.csv')\n",
    "\n",
    "EMOTION_KEY = {0: 'anger', 1: 'fear', 2: 'joy', 3:'love', 4:'sadness', 5: 'surprise'}\n",
    "train['label_text'] = train['label'].map(EMOTION_KEY)\n",
    "test['label_text'] = test['label'].map(EMOTION_KEY)\n",
    "valid['label_text'] = valid['label'].map(EMOTION_KEY)"
   ]
  },
  {
   "cell_type": "code",
   "execution_count": 21,
   "id": "949b2871",
   "metadata": {},
   "outputs": [],
   "source": [
    "# tokenize text into sequences\n",
    "tokenizer = Tokenizer(num_words=10000, oov_token='<OOV>')\n",
    "tokenizer.fit_on_texts(train['text'])\n",
    "train_sequences = tokenizer.texts_to_sequences(train['text'])\n",
    "test_sequences = tokenizer.texts_to_sequences(test['text'])\n",
    "valid_sequences = tokenizer.texts_to_sequences(valid['text'])"
   ]
  },
  {
   "cell_type": "code",
   "execution_count": 22,
   "id": "1138de07",
   "metadata": {},
   "outputs": [],
   "source": [
    "# pad the text sequences\n",
    "max_length = max([len(seq) for seq in train_sequences])\n",
    "train_padded = pad_sequences(train_sequences, maxlen=max_length, padding='post')\n",
    "test_padded = pad_sequences(test_sequences, maxlen=max_length, padding='post')\n",
    "valid_padded = pad_sequences(valid_sequences, maxlen=max_length, padding='post')"
   ]
  },
  {
   "cell_type": "markdown",
   "id": "0c056337",
   "metadata": {},
   "source": [
    "### Models"
   ]
  },
  {
   "cell_type": "code",
   "execution_count": 23,
   "id": "7c3a5bcd",
   "metadata": {},
   "outputs": [],
   "source": [
    "# a simple feed-forward neural network using sequential dense layers\n",
    "def simple_ffn(input_shape, output_shape):\n",
    "    model = Sequential([\n",
    "        Dense(64, activation='relu', input_shape=input_shape),\n",
    "        Dense(output_shape, activation='softmax')\n",
    "    ])\n",
    "    return model\n",
    "\n",
    "# a recurrent neural network model\n",
    "def rnn_model(input_shape, output_shape):\n",
    "    model = Sequential([\n",
    "        Embedding(input_dim=10000, output_dim=64, input_length=input_shape),\n",
    "        LSTM(64),\n",
    "        Dense(output_shape, activation='softmax')\n",
    "    ])\n",
    "    return model\n",
    "\n",
    "# a convolutional neural network model\n",
    "def cnn_model(input_shape, output_shape):\n",
    "    model = Sequential([\n",
    "        Embedding(input_dim=10000, output_dim=64, input_length=input_shape),\n",
    "        Conv1D(64, 3, activation='relu'),\n",
    "        MaxPooling1D(2),\n",
    "        Flatten(),\n",
    "        Dense(output_shape, activation='softmax')\n",
    "    ])\n",
    "    return model"
   ]
  },
  {
   "cell_type": "markdown",
   "id": "d78db700",
   "metadata": {},
   "source": [
    "### Training"
   ]
  },
  {
   "cell_type": "code",
   "execution_count": 24,
   "id": "924eaf67",
   "metadata": {},
   "outputs": [],
   "source": [
    "# func to train the model and output evaluation of training based on the history\n",
    "def train_and_evaluate(model, train_data, train_labels, valid_data, valid_labels, test_data, test_labels):\n",
    "    model.compile(optimizer='adam', loss='sparse_categorical_crossentropy', metrics=['accuracy'])\n",
    "    history = model.fit(train_data, train_labels, epochs=10, validation_data=(valid_data, valid_labels), verbose=2)\n",
    "    loss, accuracy = model.evaluate(test_data, test_labels, verbose=2)\n",
    "    return history, loss, accuracy"
   ]
  },
  {
   "cell_type": "code",
   "execution_count": 25,
   "id": "c38c0a8e",
   "metadata": {},
   "outputs": [],
   "source": [
    "X_train, y_train = train_padded, train['label'].values\n",
    "X_test, y_test = test_padded, test['label'].values\n",
    "X_valid, y_valid = valid_padded, valid['label'].values"
   ]
  },
  {
   "cell_type": "code",
   "execution_count": 26,
   "id": "8763b56f",
   "metadata": {},
   "outputs": [
    {
     "name": "stdout",
     "output_type": "stream",
     "text": [
      "Epoch 1/10\n",
      "500/500 - 0s - loss: 208.1572 - accuracy: 0.2409 - val_loss: 92.4014 - val_accuracy: 0.2390 - 402ms/epoch - 803us/step\n",
      "Epoch 2/10\n",
      "500/500 - 0s - loss: 82.0575 - accuracy: 0.2463 - val_loss: 54.2295 - val_accuracy: 0.2610 - 207ms/epoch - 414us/step\n",
      "Epoch 3/10\n",
      "500/500 - 0s - loss: 49.8431 - accuracy: 0.2531 - val_loss: 38.4470 - val_accuracy: 0.2760 - 205ms/epoch - 411us/step\n",
      "Epoch 4/10\n",
      "500/500 - 0s - loss: 34.4512 - accuracy: 0.2579 - val_loss: 28.8827 - val_accuracy: 0.2755 - 205ms/epoch - 410us/step\n",
      "Epoch 5/10\n",
      "500/500 - 0s - loss: 25.3817 - accuracy: 0.2665 - val_loss: 24.6865 - val_accuracy: 0.2115 - 204ms/epoch - 408us/step\n",
      "Epoch 6/10\n",
      "500/500 - 0s - loss: 19.4811 - accuracy: 0.2624 - val_loss: 16.0893 - val_accuracy: 0.2400 - 204ms/epoch - 409us/step\n",
      "Epoch 7/10\n",
      "500/500 - 0s - loss: 14.9959 - accuracy: 0.2634 - val_loss: 13.2145 - val_accuracy: 0.2570 - 203ms/epoch - 406us/step\n",
      "Epoch 8/10\n",
      "500/500 - 0s - loss: 12.3913 - accuracy: 0.2664 - val_loss: 12.3079 - val_accuracy: 0.2465 - 204ms/epoch - 408us/step\n",
      "Epoch 9/10\n",
      "500/500 - 0s - loss: 10.5761 - accuracy: 0.2659 - val_loss: 12.4719 - val_accuracy: 0.2640 - 203ms/epoch - 406us/step\n",
      "Epoch 10/10\n",
      "500/500 - 0s - loss: 8.8034 - accuracy: 0.2664 - val_loss: 7.5813 - val_accuracy: 0.2180 - 204ms/epoch - 409us/step\n",
      "63/63 - 0s - loss: 8.0516 - accuracy: 0.2160 - 28ms/epoch - 452us/step\n"
     ]
    }
   ],
   "source": [
    "input_shape = X_train.shape[1:]\n",
    "output_shape = len(train['label'].unique())\n",
    "ffn_model = simple_ffn(input_shape, output_shape)\n",
    "ffn_history, ffn_loss, ffn_accuracy = train_and_evaluate(ffn_model, X_train, y_train, X_valid, y_valid, X_test, y_test)"
   ]
  },
  {
   "cell_type": "code",
   "execution_count": 27,
   "id": "106b615b",
   "metadata": {},
   "outputs": [
    {
     "name": "stdout",
     "output_type": "stream",
     "text": [
      "Epoch 1/10\n",
      "500/500 - 8s - loss: 1.5824 - accuracy: 0.3304 - val_loss: 1.5845 - val_accuracy: 0.3520 - 8s/epoch - 16ms/step\n",
      "Epoch 2/10\n",
      "500/500 - 7s - loss: 1.5792 - accuracy: 0.3308 - val_loss: 1.5869 - val_accuracy: 0.3520 - 7s/epoch - 14ms/step\n",
      "Epoch 3/10\n",
      "500/500 - 7s - loss: 1.5768 - accuracy: 0.3320 - val_loss: 1.5796 - val_accuracy: 0.3520 - 7s/epoch - 14ms/step\n",
      "Epoch 4/10\n",
      "500/500 - 7s - loss: 1.5769 - accuracy: 0.3310 - val_loss: 1.5830 - val_accuracy: 0.3520 - 7s/epoch - 14ms/step\n",
      "Epoch 5/10\n",
      "500/500 - 7s - loss: 1.5766 - accuracy: 0.3362 - val_loss: 1.5798 - val_accuracy: 0.3495 - 7s/epoch - 14ms/step\n",
      "Epoch 6/10\n",
      "500/500 - 7s - loss: 1.5624 - accuracy: 0.3411 - val_loss: 1.5504 - val_accuracy: 0.3655 - 7s/epoch - 14ms/step\n",
      "Epoch 7/10\n",
      "500/500 - 7s - loss: 1.5756 - accuracy: 0.3359 - val_loss: 1.5845 - val_accuracy: 0.3520 - 7s/epoch - 14ms/step\n",
      "Epoch 8/10\n",
      "500/500 - 7s - loss: 1.5767 - accuracy: 0.3333 - val_loss: 1.5808 - val_accuracy: 0.3520 - 7s/epoch - 14ms/step\n",
      "Epoch 9/10\n",
      "500/500 - 7s - loss: 1.5767 - accuracy: 0.3351 - val_loss: 1.5815 - val_accuracy: 0.3520 - 7s/epoch - 14ms/step\n",
      "Epoch 10/10\n",
      "500/500 - 7s - loss: 1.5763 - accuracy: 0.3334 - val_loss: 1.5802 - val_accuracy: 0.3520 - 7s/epoch - 14ms/step\n",
      "63/63 - 0s - loss: 1.5608 - accuracy: 0.3475 - 353ms/epoch - 6ms/step\n"
     ]
    }
   ],
   "source": [
    "rnn_input_shape = X_train.shape[1]\n",
    "rnn_model = rnn_model(rnn_input_shape, output_shape)\n",
    "rnn_history, rnn_loss, rnn_accuracy = train_and_evaluate(rnn_model, X_train, y_train, X_valid, y_valid, X_test, y_test)"
   ]
  },
  {
   "cell_type": "code",
   "execution_count": 28,
   "id": "1e556b29",
   "metadata": {},
   "outputs": [
    {
     "name": "stdout",
     "output_type": "stream",
     "text": [
      "Epoch 1/10\n",
      "500/500 - 2s - loss: 1.1955 - accuracy: 0.5424 - val_loss: 0.6967 - val_accuracy: 0.7710 - 2s/epoch - 3ms/step\n",
      "Epoch 2/10\n",
      "500/500 - 1s - loss: 0.4067 - accuracy: 0.8666 - val_loss: 0.3471 - val_accuracy: 0.8825 - 1s/epoch - 3ms/step\n",
      "Epoch 3/10\n",
      "500/500 - 2s - loss: 0.1659 - accuracy: 0.9431 - val_loss: 0.3118 - val_accuracy: 0.8980 - 2s/epoch - 3ms/step\n",
      "Epoch 4/10\n",
      "500/500 - 1s - loss: 0.0842 - accuracy: 0.9726 - val_loss: 0.3482 - val_accuracy: 0.8905 - 1s/epoch - 3ms/step\n",
      "Epoch 5/10\n",
      "500/500 - 1s - loss: 0.0491 - accuracy: 0.9853 - val_loss: 0.3880 - val_accuracy: 0.8885 - 1s/epoch - 3ms/step\n",
      "Epoch 6/10\n",
      "500/500 - 1s - loss: 0.0344 - accuracy: 0.9896 - val_loss: 0.4048 - val_accuracy: 0.8900 - 1s/epoch - 3ms/step\n",
      "Epoch 7/10\n",
      "500/500 - 1s - loss: 0.0261 - accuracy: 0.9918 - val_loss: 0.4421 - val_accuracy: 0.8920 - 1s/epoch - 3ms/step\n",
      "Epoch 8/10\n",
      "500/500 - 1s - loss: 0.0211 - accuracy: 0.9939 - val_loss: 0.4885 - val_accuracy: 0.8835 - 1s/epoch - 3ms/step\n",
      "Epoch 9/10\n",
      "500/500 - 1s - loss: 0.0197 - accuracy: 0.9947 - val_loss: 0.4968 - val_accuracy: 0.8805 - 1s/epoch - 3ms/step\n",
      "Epoch 10/10\n",
      "500/500 - 1s - loss: 0.0161 - accuracy: 0.9959 - val_loss: 0.5181 - val_accuracy: 0.8820 - 1s/epoch - 3ms/step\n",
      "63/63 - 0s - loss: 0.5811 - accuracy: 0.8785 - 66ms/epoch - 1ms/step\n"
     ]
    }
   ],
   "source": [
    "cnn_model = cnn_model(rnn_input_shape, output_shape)\n",
    "cnn_history, cnn_loss, cnn_accuracy = train_and_evaluate(cnn_model, X_train, y_train, X_valid, y_valid, X_test, y_test)"
   ]
  },
  {
   "cell_type": "code",
   "execution_count": 29,
   "id": "5d18f951",
   "metadata": {},
   "outputs": [
    {
     "name": "stdout",
     "output_type": "stream",
     "text": [
      "Simple Feedforward Neural Network - Test Loss: 8.051575660705566 Test Accuracy: 0.2160000056028366\n",
      "RNN Model - Test Loss: 1.560800313949585 Test Accuracy: 0.3474999964237213\n",
      "CNN Model - Test Loss: 0.5811137557029724 Test Accuracy: 0.8784999847412109\n"
     ]
    }
   ],
   "source": [
    "print(\"Simple Feedforward Neural Network - Test Loss:\", ffn_loss, \"Test Accuracy:\", ffn_accuracy)\n",
    "print(\"RNN Model - Test Loss:\", rnn_loss, \"Test Accuracy:\", rnn_accuracy)\n",
    "print(\"CNN Model - Test Loss:\", cnn_loss, \"Test Accuracy:\", cnn_accuracy)\n"
   ]
  },
  {
   "cell_type": "markdown",
   "id": "06b15ac3",
   "metadata": {},
   "source": [
    "### Visualization"
   ]
  },
  {
   "cell_type": "code",
   "execution_count": 42,
   "id": "f50e0391",
   "metadata": {},
   "outputs": [],
   "source": [
    "def plot_history(history, model_name):\n",
    "    plt.plot(history.history['accuracy'], label='accuracy')\n",
    "    plt.plot(history.history['val_accuracy'], label = 'val_accuracy')\n",
    "    plt.xlabel('Epoch')\n",
    "    plt.ylabel('Accuracy')\n",
    "    plt.ylim([0, 1])\n",
    "    plt.title(model_name)\n",
    "    plt.legend(loc='lower right')"
   ]
  },
  {
   "cell_type": "code",
   "execution_count": 43,
   "id": "00afa398",
   "metadata": {},
   "outputs": [
    {
     "data": {
      "image/png": "[encoded data removed]",
      "text/plain": [
       "<Figure size 432x288 with 1 Axes>"
      ]
     },
     "metadata": {
      "needs_background": "light"
     },
     "output_type": "display_data"
    }
   ],
   "source": [
    "plot_history(ffn_history, 'Simple Feed-Forward')"
   ]
  },
  {
   "cell_type": "code",
   "execution_count": 44,
   "id": "3e905037",
   "metadata": {},
   "outputs": [
    {
     "data": {
      "image/png": "[encoded data removed]",
      "text/plain": [
       "<Figure size 432x288 with 1 Axes>"
      ]
     },
     "metadata": {
      "needs_background": "light"
     },
     "output_type": "display_data"
    }
   ],
   "source": [
    "plot_history(rnn_history, 'Recurrent')"
   ]
  },
  {
   "cell_type": "code",
   "execution_count": 45,
   "id": "d994ada8",
   "metadata": {},
   "outputs": [
    {
     "data": {
      "image/png": "[encoded data removed]",
      "text/plain": [
       "<Figure size 432x288 with 1 Axes>"
      ]
     },
     "metadata": {
      "needs_background": "light"
     },
     "output_type": "display_data"
    }
   ],
   "source": [
    "plot_history(cnn_history, 'Convolutional')"
   ]
  },
  {
   "cell_type": "code",
   "execution_count": null,
   "id": "8aa76e8a",
   "metadata": {},
   "outputs": [],
   "source": []
  }
 ],
 "metadata": {
  "kernelspec": {
   "display_name": "Python 3",
   "language": "python",
   "name": "python3"
  },
  "language_info": {
   "codemirror_mode": {
    "name": "ipython",
    "version": 3
   },
   "file_extension": ".py",
   "mimetype": "text/x-python",
   "name": "python",
   "nbconvert_exporter": "python",
   "pygments_lexer": "ipython3",
   "version": "3.12.2"
  }
 },
 "nbformat": 4,
 "nbformat_minor": 5
}
