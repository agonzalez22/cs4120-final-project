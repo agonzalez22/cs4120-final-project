{
 "cells": [
  {
   "cell_type": "markdown",
   "metadata": {},
   "source": [
    "# Speech Emotion Recognition - CS4120 Final project \n",
    "By Jesse E. and Alina G. "
   ]
  },
  {
   "cell_type": "code",
   "execution_count": 2,
   "metadata": {},
   "outputs": [],
   "source": [
    "# imports \n",
    "import os \n",
    "from tqdm import tqdm # to help with acknowledging runtimes...\n",
    "import librosa # maybe need to import scipy (?)\n",
    "import numpy as np\n",
    "import utils\n",
    "import speech_recognition as sr"
   ]
  },
  {
   "cell_type": "code",
   "execution_count": 3,
   "metadata": {},
   "outputs": [],
   "source": [
    "path = './audio_data'\n",
    "audio_folders = os.listdir(path)\n",
    "\n",
    "audio_files = {} # save all filenames so we can use for text :))\n",
    "audio_data = {} # save .wav data loaded in from librosa \n",
    "\n",
    "# get all filenames and load in wavs...\n",
    "for folder in audio_folders: \n",
    "    curr_path = path + '/' + folder\n",
    "    files = os.listdir(curr_path)\n",
    "    audio_files[folder] = files\n",
    "\n",
    "    data = utils.load_wavs(curr_path, files)\n",
    "    audio_data[folder] = data"
   ]
  },
  {
   "cell_type": "markdown",
   "metadata": {},
   "source": [
    "The above saves the `.wav` files in the following format: `{actor_folder: [((sig,rate), label), ...]}` in the audio_data dictionary. We can use `utils.seperate_tups()` to extract the sig,rate pairing and labels in each key/value pair. \n",
    "Below we will attempt to read in the audio and convert it to text. "
   ]
  },
  {
   "cell_type": "code",
   "execution_count": 4,
   "metadata": {},
   "outputs": [
    {
     "name": "stderr",
     "output_type": "stream",
     "text": [
      " 56%|█████▌    | 14/25 [15:38<11:23, 62.14s/it]"
     ]
    }
   ],
   "source": [
    "audio_text = {} # get audio text\n",
    "\n",
    "for folder,files in tqdm(audio_files.items()): # takes approx 25 mins \n",
    "    curr_path = path + '/' + folder\n",
    "    texts = utils.get_audio_text(curr_path, files)\n",
    "    audio_text[folder] = texts"
   ]
  }
 ],
 "metadata": {
  "kernelspec": {
   "display_name": "base",
   "language": "python",
   "name": "python3"
  },
  "language_info": {
   "codemirror_mode": {
    "name": "ipython",
    "version": 3
   },
   "file_extension": ".py",
   "mimetype": "text/x-python",
   "name": "python",
   "nbconvert_exporter": "python",
   "pygments_lexer": "ipython3",
   "version": "3.12.2"
  }
 },
 "nbformat": 4,
 "nbformat_minor": 2
}
